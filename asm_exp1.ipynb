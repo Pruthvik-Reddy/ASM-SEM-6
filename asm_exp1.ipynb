{
  "nbformat": 4,
  "nbformat_minor": 0,
  "metadata": {
    "colab": {
      "name": "asm_exp1.ipynb",
      "provenance": [],
      "authorship_tag": "ABX9TyM6l7Th8bC0OMhQHidebNKO",
      "include_colab_link": true
    },
    "kernelspec": {
      "name": "python3",
      "display_name": "Python 3"
    }
  },
  "cells": [
    {
      "cell_type": "markdown",
      "metadata": {
        "id": "view-in-github",
        "colab_type": "text"
      },
      "source": [
        "<a href=\"https://colab.research.google.com/github/Pruthvik-Reddy/ASM-SEM-6/blob/master/asm_exp1.ipynb\" target=\"_parent\"><img src=\"https://colab.research.google.com/assets/colab-badge.svg\" alt=\"Open In Colab\"/></a>"
      ]
    },
    {
      "cell_type": "code",
      "metadata": {
        "id": "BC3ufSxwVduR",
        "colab_type": "code",
        "colab": {}
      },
      "source": [
        "import pandas as pd\n",
        "import numpy as np\n",
        "import seaborn \n",
        "import matplotlib.pyplot as plt\n",
        "seaborn.set_style('whitegrid')"
      ],
      "execution_count": 0,
      "outputs": []
    },
    {
      "cell_type": "code",
      "metadata": {
        "id": "ytUuPY_0WBmW",
        "colab_type": "code",
        "outputId": "d1132049-54a0-4ee0-a310-3ee90763240a",
        "colab": {
          "base_uri": "https://localhost:8080/",
          "height": 296
        }
      },
      "source": [
        "std_dev = .1\n",
        "num_reps = 500\n",
        "num_simulations = 2000\n",
        "avg=1\n",
        "ratio_actual_to_target= np.random.normal(avg, std_dev, num_reps).round(2)\n",
        "plt.hist(ratio_actual_to_target,bins=10)\n",
        "plt.xlabel('Ratio of Actual Sales to Target Sales')\n",
        "plt.ylabel('Frequency')\n",
        "#seaborn.distplot(pct_to_target)"
      ],
      "execution_count": 50,
      "outputs": [
        {
          "output_type": "execute_result",
          "data": {
            "text/plain": [
              "Text(0, 0.5, 'Frequency')"
            ]
          },
          "metadata": {
            "tags": []
          },
          "execution_count": 50
        },
        {
          "output_type": "display_data",
          "data": {
            "image/png": "[encoded data removed]",
            "text/plain": [
              "<Figure size 432x288 with 1 Axes>"
            ]
          },
          "metadata": {
            "tags": []
          }
        }
      ]
    },
    {
      "cell_type": "code",
      "metadata": {
        "id": "8cihs6ZDcC__",
        "colab_type": "code",
        "outputId": "c253ac39-51d2-4f33-df18-6325d0bb0515",
        "colab": {
          "base_uri": "https://localhost:8080/",
          "height": 296
        }
      },
      "source": [
        "sales_target_values = [75_000, 100_000, 200_000, 300_000, 400_000, 500_000]\n",
        "sales_target_prob = [.3, .3, .2, .1, .05, .05]\n",
        "sales_target = np.random.choice(sales_target_values, num_reps, p=sales_target_prob)\n",
        "#seaborn.distplot(sales_target,bins=4)\n",
        "plt.hist(sales_target,bins=10)\n",
        "plt.xlabel('Target sales distribution over the years')\n",
        "plt.ylabel('Frequency')\n"
      ],
      "execution_count": 51,
      "outputs": [
        {
          "output_type": "execute_result",
          "data": {
            "text/plain": [
              "Text(0, 0.5, 'Frequency')"
            ]
          },
          "metadata": {
            "tags": []
          },
          "execution_count": 51
        },
        {
          "output_type": "display_data",
          "data": {
            "image/png": "[encoded data removed]",
            "text/plain": [
              "<Figure size 432x288 with 1 Axes>"
            ]
          },
          "metadata": {
            "tags": []
          }
        }
      ]
    },
    {
      "cell_type": "code",
      "metadata": {
        "id": "_2jqB8goccoC",
        "colab_type": "code",
        "colab": {
          "base_uri": "https://localhost:8080/",
          "height": 195
        },
        "outputId": "fc2a0b03-4c6c-4cd3-f9a6-b3634a3309f0"
      },
      "source": [
        "df = pd.DataFrame(index=range(num_reps), data={'ratio_actual_to_target': ratio_actual_to_target,'Sales_Target': sales_target})\n",
        "df['Actual_Sales'] = df['ratio_actual_to_target'] * df['Sales_Target']\n",
        "def calc_commission_rate(x):\n",
        "  if x <= .90:\n",
        "        return .02\n",
        "  if x <= .99:\n",
        "        return .03\n",
        "  else:\n",
        "        return .04\n",
        "\n",
        "df['Commission_Rate'] = df['ratio_actual_to_target'].apply(calc_commission_rate)\n",
        "df['Commission_Amount'] = df['Commission_Rate'] * df['Actual_Sales']\n",
        "df.head()\n"
      ],
      "execution_count": 52,
      "outputs": [
        {
          "output_type": "execute_result",
          "data": {
            "text/html": [
              "<div>\n",
              "<style scoped>\n",
              "    .dataframe tbody tr th:only-of-type {\n",
              "        vertical-align: middle;\n",
              "    }\n",
              "\n",
              "    .dataframe tbody tr th {\n",
              "        vertical-align: top;\n",
              "    }\n",
              "\n",
              "    .dataframe thead th {\n",
              "        text-align: right;\n",
              "    }\n",
              "</style>\n",
              "<table border=\"1\" class=\"dataframe\">\n",
              "  <thead>\n",
              "    <tr style=\"text-align: right;\">\n",
              "      <th></th>\n",
              "      <th>ratio_actual_to_target</th>\n",
              "      <th>Sales_Target</th>\n",
              "      <th>Actual_Sales</th>\n",
              "      <th>Commission_Rate</th>\n",
              "      <th>Commission_Amount</th>\n",
              "    </tr>\n",
              "  </thead>\n",
              "  <tbody>\n",
              "    <tr>\n",
              "      <th>0</th>\n",
              "      <td>0.94</td>\n",
              "      <td>100000</td>\n",
              "      <td>94000.0</td>\n",
              "      <td>0.03</td>\n",
              "      <td>2820.0</td>\n",
              "    </tr>\n",
              "    <tr>\n",
              "      <th>1</th>\n",
              "      <td>0.79</td>\n",
              "      <td>400000</td>\n",
              "      <td>316000.0</td>\n",
              "      <td>0.02</td>\n",
              "      <td>6320.0</td>\n",
              "    </tr>\n",
              "    <tr>\n",
              "      <th>2</th>\n",
              "      <td>0.97</td>\n",
              "      <td>200000</td>\n",
              "      <td>194000.0</td>\n",
              "      <td>0.03</td>\n",
              "      <td>5820.0</td>\n",
              "    </tr>\n",
              "    <tr>\n",
              "      <th>3</th>\n",
              "      <td>0.98</td>\n",
              "      <td>200000</td>\n",
              "      <td>196000.0</td>\n",
              "      <td>0.03</td>\n",
              "      <td>5880.0</td>\n",
              "    </tr>\n",
              "    <tr>\n",
              "      <th>4</th>\n",
              "      <td>0.90</td>\n",
              "      <td>100000</td>\n",
              "      <td>90000.0</td>\n",
              "      <td>0.02</td>\n",
              "      <td>1800.0</td>\n",
              "    </tr>\n",
              "  </tbody>\n",
              "</table>\n",
              "</div>"
            ],
            "text/plain": [
              "   ratio_actual_to_target  Sales_Target  ...  Commission_Rate  Commission_Amount\n",
              "0                    0.94        100000  ...             0.03             2820.0\n",
              "1                    0.79        400000  ...             0.02             6320.0\n",
              "2                    0.97        200000  ...             0.03             5820.0\n",
              "3                    0.98        200000  ...             0.03             5880.0\n",
              "4                    0.90        100000  ...             0.02             1800.0\n",
              "\n",
              "[5 rows x 5 columns]"
            ]
          },
          "metadata": {
            "tags": []
          },
          "execution_count": 52
        }
      ]
    },
    {
      "cell_type": "code",
      "metadata": {
        "id": "FwfCU8qxeblu",
        "colab_type": "code",
        "colab": {}
      },
      "source": [
        "all_stats = []\n",
        "\n",
        "# Loop through many simulations\n",
        "for i in range(num_simulations):\n",
        "\n",
        "    # Choose random inputs for the sales targets and percent to target\n",
        "    sales_target = np.random.choice(sales_target_values, num_reps, p=sales_target_prob)\n",
        "    ratio_actual_to_target = np.random.normal(avg, std_dev, num_reps).round(2)\n",
        "\n",
        "    # Build the dataframe based on the inputs and number of reps\n",
        "    df = pd.DataFrame(index=range(num_reps), data={'ratio_actual_to_target': ratio_actual_to_target,\n",
        "                                                   'Sales_Target': sales_target})\n",
        "\n",
        "    # Back into the sales number using the percent to target rate\n",
        "    df['Actual_Sales'] = df['ratio_actual_to_target'] * df['Sales_Target']\n",
        "\n",
        "    # Determine the commissions rate and calculate it\n",
        "    df['Commission_Rate'] = df['ratio_actual_to_target'].apply(calc_commission_rate)\n",
        "    df['Commission_Amount'] = df['Commission_Rate'] * df['Actual_Sales']\n",
        "\n",
        "    # We want to track sales,commission amounts and sales targets over all the simulations\n",
        "    all_stats.append([df['Actual_Sales'].sum().round(0),\n",
        "                      df['Commission_Amount'].sum().round(0),\n",
        "                      df['Sales_Target'].sum().round(0)])\n",
        "    "
      ],
      "execution_count": 0,
      "outputs": []
    },
    {
      "cell_type": "code",
      "metadata": {
        "id": "FWuOwBwPe_U0",
        "colab_type": "code",
        "outputId": "fad6ca99-06fe-4f94-b3ed-84bec5f89f65",
        "colab": {
          "base_uri": "https://localhost:8080/",
          "height": 198
        }
      },
      "source": [
        "results_df = pd.DataFrame.from_records(all_stats, columns=['Actual_Sales','Commission_Amount',\n",
        "                                                           'Sales_Target'])\n",
        "results_df.describe().style.format('{:,}')\n"
      ],
      "execution_count": 54,
      "outputs": [
        {
          "output_type": "execute_result",
          "data": {
            "text/html": [
              "<style  type=\"text/css\" >\n",
              "</style><table id=\"T_10900e3c_9d2c_11ea_b65b_0242ac1c0002\" ><thead>    <tr>        <th class=\"blank level0\" ></th>        <th class=\"col_heading level0 col0\" >Actual_Sales</th>        <th class=\"col_heading level0 col1\" >Commission_Amount</th>        <th class=\"col_heading level0 col2\" >Sales_Target</th>    </tr></thead><tbody>\n",
              "                <tr>\n",
              "                        <th id=\"T_10900e3c_9d2c_11ea_b65b_0242ac1c0002level0_row0\" class=\"row_heading level0 row0\" >count</th>\n",
              "                        <td id=\"T_10900e3c_9d2c_11ea_b65b_0242ac1c0002row0_col0\" class=\"data row0 col0\" >2,000.0</td>\n",
              "                        <td id=\"T_10900e3c_9d2c_11ea_b65b_0242ac1c0002row0_col1\" class=\"data row0 col1\" >2,000.0</td>\n",
              "                        <td id=\"T_10900e3c_9d2c_11ea_b65b_0242ac1c0002row0_col2\" class=\"data row0 col2\" >2,000.0</td>\n",
              "            </tr>\n",
              "            <tr>\n",
              "                        <th id=\"T_10900e3c_9d2c_11ea_b65b_0242ac1c0002level0_row1\" class=\"row_heading level0 row1\" >mean</th>\n",
              "                        <td id=\"T_10900e3c_9d2c_11ea_b65b_0242ac1c0002row1_col0\" class=\"data row1 col0\" >83,885,941.5</td>\n",
              "                        <td id=\"T_10900e3c_9d2c_11ea_b65b_0242ac1c0002row1_col1\" class=\"data row1 col1\" >2,864,262.5565</td>\n",
              "                        <td id=\"T_10900e3c_9d2c_11ea_b65b_0242ac1c0002row1_col2\" class=\"data row1 col2\" >83,888,000.0</td>\n",
              "            </tr>\n",
              "            <tr>\n",
              "                        <th id=\"T_10900e3c_9d2c_11ea_b65b_0242ac1c0002level0_row2\" class=\"row_heading level0 row2\" >std</th>\n",
              "                        <td id=\"T_10900e3c_9d2c_11ea_b65b_0242ac1c0002row2_col0\" class=\"data row2 col0\" >2,679,801.974309539</td>\n",
              "                        <td id=\"T_10900e3c_9d2c_11ea_b65b_0242ac1c0002row2_col1\" class=\"data row2 col1\" >101,909.40312982885</td>\n",
              "                        <td id=\"T_10900e3c_9d2c_11ea_b65b_0242ac1c0002row2_col2\" class=\"data row2 col2\" >2,643,945.4369817977</td>\n",
              "            </tr>\n",
              "            <tr>\n",
              "                        <th id=\"T_10900e3c_9d2c_11ea_b65b_0242ac1c0002level0_row3\" class=\"row_heading level0 row3\" >min</th>\n",
              "                        <td id=\"T_10900e3c_9d2c_11ea_b65b_0242ac1c0002row3_col0\" class=\"data row3 col0\" >76,384,500.0</td>\n",
              "                        <td id=\"T_10900e3c_9d2c_11ea_b65b_0242ac1c0002row3_col1\" class=\"data row3 col1\" >2,573,575.0</td>\n",
              "                        <td id=\"T_10900e3c_9d2c_11ea_b65b_0242ac1c0002row3_col2\" class=\"data row3 col2\" >76,475,000.0</td>\n",
              "            </tr>\n",
              "            <tr>\n",
              "                        <th id=\"T_10900e3c_9d2c_11ea_b65b_0242ac1c0002level0_row4\" class=\"row_heading level0 row4\" >25%</th>\n",
              "                        <td id=\"T_10900e3c_9d2c_11ea_b65b_0242ac1c0002row4_col0\" class=\"data row4 col0\" >82,144,875.0</td>\n",
              "                        <td id=\"T_10900e3c_9d2c_11ea_b65b_0242ac1c0002row4_col1\" class=\"data row4 col1\" >2,796,133.0</td>\n",
              "                        <td id=\"T_10900e3c_9d2c_11ea_b65b_0242ac1c0002row4_col2\" class=\"data row4 col2\" >82,175,000.0</td>\n",
              "            </tr>\n",
              "            <tr>\n",
              "                        <th id=\"T_10900e3c_9d2c_11ea_b65b_0242ac1c0002level0_row5\" class=\"row_heading level0 row5\" >50%</th>\n",
              "                        <td id=\"T_10900e3c_9d2c_11ea_b65b_0242ac1c0002row5_col0\" class=\"data row5 col0\" >83,862,000.0</td>\n",
              "                        <td id=\"T_10900e3c_9d2c_11ea_b65b_0242ac1c0002row5_col1\" class=\"data row5 col1\" >2,864,536.5</td>\n",
              "                        <td id=\"T_10900e3c_9d2c_11ea_b65b_0242ac1c0002row5_col2\" class=\"data row5 col2\" >83,825,000.0</td>\n",
              "            </tr>\n",
              "            <tr>\n",
              "                        <th id=\"T_10900e3c_9d2c_11ea_b65b_0242ac1c0002level0_row6\" class=\"row_heading level0 row6\" >75%</th>\n",
              "                        <td id=\"T_10900e3c_9d2c_11ea_b65b_0242ac1c0002row6_col0\" class=\"data row6 col0\" >85,626,562.5</td>\n",
              "                        <td id=\"T_10900e3c_9d2c_11ea_b65b_0242ac1c0002row6_col1\" class=\"data row6 col1\" >2,930,978.0</td>\n",
              "                        <td id=\"T_10900e3c_9d2c_11ea_b65b_0242ac1c0002row6_col2\" class=\"data row6 col2\" >85,650,000.0</td>\n",
              "            </tr>\n",
              "            <tr>\n",
              "                        <th id=\"T_10900e3c_9d2c_11ea_b65b_0242ac1c0002level0_row7\" class=\"row_heading level0 row7\" >max</th>\n",
              "                        <td id=\"T_10900e3c_9d2c_11ea_b65b_0242ac1c0002row7_col0\" class=\"data row7 col0\" >91,804,250.0</td>\n",
              "                        <td id=\"T_10900e3c_9d2c_11ea_b65b_0242ac1c0002row7_col1\" class=\"data row7 col1\" >3,177,088.0</td>\n",
              "                        <td id=\"T_10900e3c_9d2c_11ea_b65b_0242ac1c0002row7_col2\" class=\"data row7 col2\" >91,600,000.0</td>\n",
              "            </tr>\n",
              "    </tbody></table>"
            ],
            "text/plain": [
              "<pandas.io.formats.style.Styler at 0x7f6993d89860>"
            ]
          },
          "metadata": {
            "tags": []
          },
          "execution_count": 54
        }
      ]
    },
    {
      "cell_type": "code",
      "metadata": {
        "id": "HwfGNoDJfObI",
        "colab_type": "code",
        "outputId": "d792e8e6-c965-40df-d1b7-ce9ca689f128",
        "colab": {
          "base_uri": "https://localhost:8080/",
          "height": 311
        }
      },
      "source": [
        "results_df['Commission_Amount'].plot(kind='hist', title=\"Total Commission Amount (in millions)\")"
      ],
      "execution_count": 55,
      "outputs": [
        {
          "output_type": "execute_result",
          "data": {
            "text/plain": [
              "<matplotlib.axes._subplots.AxesSubplot at 0x7f6993d99fd0>"
            ]
          },
          "metadata": {
            "tags": []
          },
          "execution_count": 55
        },
        {
          "output_type": "display_data",
          "data": {
            "image/png": "[encoded data removed]",
            "text/plain": [
              "<Figure size 432x288 with 1 Axes>"
            ]
          },
          "metadata": {
            "tags": []
          }
        }
      ]
    },
    {
      "cell_type": "code",
      "metadata": {
        "id": "UCxxMeoUfbkw",
        "colab_type": "code",
        "outputId": "e910419c-4c0c-405b-a574-77027330d592",
        "colab": {
          "base_uri": "https://localhost:8080/",
          "height": 311
        }
      },
      "source": [
        "results_df['Actual_Sales'].plot(kind='hist',title='Actual_Sales Amount in 10*millions')"
      ],
      "execution_count": 58,
      "outputs": [
        {
          "output_type": "execute_result",
          "data": {
            "text/plain": [
              "<matplotlib.axes._subplots.AxesSubplot at 0x7f6993fe1198>"
            ]
          },
          "metadata": {
            "tags": []
          },
          "execution_count": 58
        },
        {
          "output_type": "display_data",
          "data": {
            "image/png": "[encoded data removed]",
            "text/plain": [
              "<Figure size 432x288 with 1 Axes>"
            ]
          },
          "metadata": {
            "tags": []
          }
        }
      ]
    },
    {
      "cell_type": "code",
      "metadata": {
        "id": "dWmrFigFflOH",
        "colab_type": "code",
        "colab": {}
      },
      "source": [
        ""
      ],
      "execution_count": 0,
      "outputs": []
    }
  ]
}